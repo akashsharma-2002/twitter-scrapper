{
  "nbformat": 4,
  "nbformat_minor": 0,
  "metadata": {
    "colab": {
      "provenance": [],
      "gpuType": "T4",
      "authorship_tag": "ABX9TyPbbgdZnz5h+RLvCjOln6mG",
      "include_colab_link": true
    },
    "kernelspec": {
      "name": "python3",
      "display_name": "Python 3"
    },
    "language_info": {
      "name": "python"
    },
    "accelerator": "GPU"
  },
  "cells": [
    {
      "cell_type": "markdown",
      "metadata": {
        "id": "view-in-github",
        "colab_type": "text"
      },
      "source": [
        "<a href=\"https://colab.research.google.com/github/akashsharma-2002/twitter-scrapper/blob/main/twitter_scrapper.ipynb\" target=\"_parent\"><img src=\"https://colab.research.google.com/assets/colab-badge.svg\" alt=\"Open In Colab\"/></a>"
      ]
    },
    {
      "cell_type": "code",
      "source": [
        "import requests\n",
        "from bs4 import BeautifulSoup\n",
        "\n",
        "# Scrape proxy IP addresses from the URL\n",
        "def scrape_proxy_ips(url):\n",
        "    response = requests.get(url)\n",
        "    soup = BeautifulSoup(response.content, 'html.parser')\n",
        "    table = soup.find('table', class_='table-striped')\n",
        "    proxies = []\n",
        "    for row in table.find_all('tr')[1:]:\n",
        "        columns = row.find_all('td')\n",
        "        ip = columns[0].text.strip()\n",
        "        port = columns[1].text.strip()\n",
        "        protocol = columns[6].text.strip().lower()\n",
        "        if protocol == 'yes':\n",
        "            protocol = 'https'\n",
        "        else:\n",
        "            protocol = 'http'\n",
        "        proxies.append(f\"{protocol}://{ip}:{port}\")\n",
        "    return proxies\n",
        "\n",
        "# Function to scrape Twitter profile details using rotating proxy IPs\n",
        "def scrape_twitter_profile(username, proxies):\n",
        "    url = f\"https://twitter.com/{username}\"\n",
        "\n",
        "    response = None\n",
        "    for proxy in proxies:\n",
        "        try:\n",
        "            response = requests.get(url, proxies={\"http\": proxy, \"https\": proxy}, timeout=5)\n",
        "            response.raise_for_status()\n",
        "            break  # Break the loop if successful response\n",
        "        except requests.exceptions.RequestException:\n",
        "            continue  # Try the next proxy\n",
        "\n",
        "    if response:\n",
        "        try:\n",
        "            soup = BeautifulSoup(response.content, 'html.parser')\n",
        "\n",
        "            biography = soup.find('div', class_='ProfileHeaderCard-bio u-dir').text.strip()\n",
        "\n",
        "            followers_elem = soup.find('li', {'data-nav': 'followers'}).find('span', class_='ProfileNav-value')\n",
        "            followers_count = int(followers_elem.get('data-count', '0').replace(',', ''))\n",
        "\n",
        "            following_elem = soup.find('li', {'data-nav': 'following'}).find('span', class_='ProfileNav-value')\n",
        "            following_count = int(following_elem.get('data-count', '0').replace(',', ''))\n",
        "\n",
        "            likes_elem = soup.find('li', {'data-nav': 'favorites'}).find('span', class_='ProfileNav-value')\n",
        "            likes_count = int(likes_elem.get('data-count', '0').replace(',', ''))\n",
        "\n",
        "            user_id_elem = soup.find('div', class_='ProfileNav').find('a', class_='ProfileNav-stat ProfileNav-stat--link')\n",
        "            user_id = int(user_id_elem['href'].split('/')[-1]) if user_id_elem else 0\n",
        "\n",
        "            return {\n",
        "                'biography': biography,\n",
        "                'followers_count': followers_count,\n",
        "                'following_count': following_count,\n",
        "                'likes_count': likes_count,\n",
        "                'user_id': user_id\n",
        "            }\n",
        "        except AttributeError:\n",
        "            print(\"Failed to extract the profile data.\")\n",
        "            return None\n",
        "    else:\n",
        "        print(\"Failed to fetch the Twitter profile.\")\n",
        "        return None\n",
        "\n",
        "# Scrape proxy IPs from the provided URL\n",
        "proxy_url = \"https://free-proxy-list.net/\"\n",
        "proxies = scrape_proxy_ips(proxy_url)\n",
        "\n",
        "# Define the target Twitter profile username\n",
        "username = \"sachin_rt\"\n",
        "\n",
        "# Scrape Twitter profile details using rotating proxy IPs\n",
        "profile_data = scrape_twitter_profile(username, proxies)\n",
        "if profile_data:\n",
        "    print(profile_data)\n"
      ],
      "metadata": {
        "id": "WKDYzvBWZXlF",
        "colab": {
          "base_uri": "https://localhost:8080/"
        },
        "outputId": "6c87bec0-3321-46e5-cc7c-ad9d595caccc"
      },
      "execution_count": 50,
      "outputs": [
        {
          "output_type": "stream",
          "name": "stdout",
          "text": [
            "Failed to extract the profile data.\n"
          ]
        }
      ]
    },
    {
      "cell_type": "code",
      "source": [],
      "metadata": {
        "id": "nJg3e-pjciVi"
      },
      "execution_count": null,
      "outputs": []
    }
  ]
}